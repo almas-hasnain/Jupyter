{
 "cells": [
  {
   "cell_type": "markdown",
   "metadata": {},
   "source": [
    "### Integer Declaration\n",
    "\n",
    "Below we are declaring a integer variable named \"i\" and assigning it a value of 5"
   ]
  },
  {
   "cell_type": "code",
   "execution_count": 11,
   "metadata": {},
   "outputs": [
    {
     "name": "stdout",
     "output_type": "stream",
     "text": [
      "5\n",
      "Type of i :  <class 'int'>\n"
     ]
    }
   ],
   "source": [
    "i = 5\n",
    "print(i)\n",
    "print(\"Type of i : \",type(i))"
   ]
  },
  {
   "cell_type": "markdown",
   "metadata": {},
   "source": [
    "### Floating Point Declaration\n",
    "\n",
    "Below we are declaring a float variable named \"i\" and assigning it a value of 5."
   ]
  },
  {
   "cell_type": "code",
   "execution_count": 3,
   "metadata": {},
   "outputs": [
    {
     "name": "stdout",
     "output_type": "stream",
     "text": [
      "5.55\n"
     ]
    }
   ],
   "source": [
    "i = 5.55\n",
    "print(i)\n",
    "\n",
    "print(\"Type of i : \",type(i))"
   ]
  },
  {
   "cell_type": "markdown",
   "metadata": {},
   "source": [
    "### String Declaration\n",
    "\n",
    "Below we are declaring a string variable named \"str\" and assigning \"Welome to Python World\".\n",
    "\n",
    "String variable can be declared using single quotes '' as well as double quotes \"\""
   ]
  },
  {
   "cell_type": "code",
   "execution_count": 21,
   "metadata": {},
   "outputs": [
    {
     "name": "stdout",
     "output_type": "stream",
     "text": [
      "Welome to Python World\n",
      "Type of str :  <class 'str'> \n",
      "\n",
      "Welome to Python World\n",
      "Type of string :  <class 'str'>\n"
     ]
    }
   ],
   "source": [
    "str = 'Welome to Python World' \n",
    "print (str) \n",
    "print(\"Type of str : \",type(str), \"\\n\")\n",
    "\n",
    "string = \"Welome to Python World\" \n",
    "print (string) \n",
    "print(\"Type of string : \",type(string))"
   ]
  },
  {
   "cell_type": "markdown",
   "metadata": {},
   "source": [
    "### List Declaration\n",
    "\n",
    "\n",
    "A list contains items separated by commas and enclosed within square brackets ([]).\n",
    "\n",
    "A list in python can hold multiple data types together, unline most other languages where we a list can store single datatypes."
   ]
  },
  {
   "cell_type": "code",
   "execution_count": 22,
   "metadata": {},
   "outputs": [
    {
     "name": "stdout",
     "output_type": "stream",
     "text": [
      "['abc', 'xyz', 123, 789]\n",
      "Type of str :  <class 'list'>\n"
     ]
    }
   ],
   "source": [
    "list = ['abc','xyz',123,789]\n",
    "print (list) \n",
    "print(\"Type of str : \",type(list))"
   ]
  },
  {
   "cell_type": "markdown",
   "metadata": {},
   "source": [
    "### Dictionary Declaration\n",
    "\n",
    "Dictionaries are used to store data values in key:value pairs\n",
    "Dictionaries contains have keys: values and are enclosed within curly brackets ({}). \n",
    "Dictionaries do not allow duplicates."
   ]
  },
  {
   "cell_type": "code",
   "execution_count": 31,
   "metadata": {},
   "outputs": [
    {
     "name": "stdout",
     "output_type": "stream",
     "text": [
      "{'First Name': 'Almas', 'Last Name': 'Hasnain', 'Employee ID': 1}\n",
      "Type of dict :  <class 'dict'> \n",
      "\n",
      "Keys are :  dict_keys(['First Name', 'Last Name', 'Employee ID'])\n",
      "Values are : dict_values(['Almas', 'Hasnain', 1])\n"
     ]
    }
   ],
   "source": [
    "dict = {'First Name': 'Almas','Last Name':'Hasnain', 'Employee ID': 1}\n",
    "\n",
    "print (dict) \n",
    "print(\"Type of dict : \", type(dict),\"\\n\")\n",
    "\n",
    "print ('Keys are : ', dict.keys())   # Prints all the keys\n",
    "print ('Values are :', dict.values()) # Prints all the values"
   ]
  },
  {
   "cell_type": "markdown",
   "metadata": {},
   "source": [
    "### Set  Declaration\n",
    "\n",
    "Sets are used to store multiple items in a single variable. \n",
    "Sets do not allow duplicates."
   ]
  },
  {
   "cell_type": "code",
   "execution_count": 34,
   "metadata": {},
   "outputs": [
    {
     "name": "stdout",
     "output_type": "stream",
     "text": [
      "{'Rose', 'Sunflower', 'Daffodil', 'lily'}\n",
      "Type of set :  <class 'set'>\n"
     ]
    }
   ],
   "source": [
    "set = {'Daffodil','Rose','lily','Sunflower'}\n",
    "\n",
    "print (set) \n",
    "print(\"Type of set : \", type(set))"
   ]
  },
  {
   "cell_type": "markdown",
   "metadata": {},
   "source": [
    "### Tuple Declaration"
   ]
  },
  {
   "cell_type": "code",
   "execution_count": 35,
   "metadata": {},
   "outputs": [
    {
     "name": "stdout",
     "output_type": "stream",
     "text": [
      "('Daffodil', 'Rose', 'lily')\n",
      "Type of tuple :  <class 'tuple'>\n"
     ]
    }
   ],
   "source": [
    "tuple = (\"Daffodil\", \"Rose\", \"lily\")\n",
    "print(tuple)\n",
    "print(\"Type of tuple : \", type(tuple))"
   ]
  },
  {
   "cell_type": "code",
   "execution_count": null,
   "metadata": {},
   "outputs": [],
   "source": []
  }
 ],
 "metadata": {
  "kernelspec": {
   "display_name": "Python 3",
   "language": "python",
   "name": "python3"
  },
  "language_info": {
   "codemirror_mode": {
    "name": "ipython",
    "version": 3
   },
   "file_extension": ".py",
   "mimetype": "text/x-python",
   "name": "python",
   "nbconvert_exporter": "python",
   "pygments_lexer": "ipython3",
   "version": "3.8.5"
  }
 },
 "nbformat": 4,
 "nbformat_minor": 4
}
