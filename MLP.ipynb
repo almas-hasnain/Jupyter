{
 "cells": [
  {
   "cell_type": "markdown",
   "metadata": {},
   "source": [
    "### MPL Classifier\n"
   ]
  },
  {
   "cell_type": "markdown",
   "metadata": {},
   "source": [
    "We are creating an MLP classifier with 3 hidden layers."
   ]
  },
  {
   "cell_type": "markdown",
   "metadata": {},
   "source": [
    "Use the below code to install torch vision (uncomment the below line and execute it)."
   ]
  },
  {
   "cell_type": "code",
   "execution_count": 1,
   "metadata": {},
   "outputs": [],
   "source": [
    "#!pip3 install torch==1.10.1+cu102 torchvision==0.11.2+cu102 torchaudio===0.10.1+cu102 -f https://download.pytorch.org/whl/cu102/torch_stable.html"
   ]
  },
  {
   "cell_type": "code",
   "execution_count": 26,
   "metadata": {
    "id": "CZoNP1odRRMS"
   },
   "outputs": [],
   "source": [
    "from IPython import get_ipython\n",
    "import warnings\n",
    "warnings.filterwarnings(\"ignore\")\n",
    "ipython = get_ipython()"
   ]
  },
  {
   "cell_type": "code",
   "execution_count": 27,
   "metadata": {
    "colab": {
     "base_uri": "https://localhost:8080/"
    },
    "id": "GGN_IANwMfuu",
    "outputId": "cd8c5eb7-ce63-4043-b99a-298187104ee2"
   },
   "outputs": [
    {
     "name": "stdout",
     "output_type": "stream",
     "text": [
      "All libraries are loaded\n"
     ]
    }
   ],
   "source": [
    "# import libraries\n",
    "from matplotlib import pyplot as plt\n",
    "from torchvision import datasets\n",
    "import torchvision.transforms as transforms\n",
    "import torch.nn as nn\n",
    "import torch.nn.functional as F\n",
    "\n",
    "print(\"All libraries are loaded\")"
   ]
  },
  {
   "cell_type": "code",
   "execution_count": 28,
   "metadata": {
    "id": "p5kYBKzfS6SR"
   },
   "outputs": [],
   "source": [
    "import torch\n",
    "import random\n",
    "import numpy as np\n",
    "import pandas as pd\n",
    "\n",
    "torch.manual_seed(0)\n",
    "random.seed(0)\n",
    "np.random.seed(0)\n",
    "torch.use_deterministic_algorithms(True)\n"
   ]
  },
  {
   "cell_type": "code",
   "execution_count": 34,
   "metadata": {
    "colab": {
     "base_uri": "https://localhost:8080/"
    },
    "id": "2dVWQKDUMfuw",
    "outputId": "5253932e-3632-466a-c407-e28b562e7c90"
   },
   "outputs": [
    {
     "name": "stdout",
     "output_type": "stream",
     "text": [
      "120\n",
      "Training data created\n",
      "Train-Data length :  100 \n",
      "\n",
      "Validation data created\n",
      "Validation-Data length :  20 \n",
      "\n",
      "Test data created\n",
      "Test-Data length :  30\n"
     ]
    }
   ],
   "source": [
    "# how many samples per batch to load\n",
    "batch_size = 15\n",
    "\n",
    "# convert data to torch.FloatTensor\n",
    "transform = transforms.ToTensor()\n",
    "\n",
    "#Loading train data\n",
    "train_data_load = pd.read_csv(\"iris_training.csv\", header=None)\n",
    "\n",
    "#transforming train data\n",
    "train_input_columns = torch.from_numpy(train_data_load[list(train_data_load.columns)[:-1]].to_numpy()).type(torch.float32)\n",
    "train_output_columns = torch.tensor(train_data_load[list(train_data_load.columns)[-1]])\n",
    "\n",
    "#Loading test data\n",
    "test_data_load = pd.read_csv(\"iris_test.csv\", header=None)\n",
    "\n",
    "#transforming test data\n",
    "test_input_columns = torch.from_numpy(test_data_load[list(test_data_load.columns)[:-1]].to_numpy()).type(torch.float32)\n",
    "test_output_columns = torch.tensor(test_data_load[list(test_data_load.columns)[-1]])\n",
    "\n",
    "# choose the training and test datasets\n",
    "train_data = torch.utils.data.TensorDataset(train_input_columns,train_output_columns)\n",
    "#train_data = pd.read_csv(\"iris_training.csv\", header=None)\n",
    "\n",
    "print(len(train_data))\n",
    "\n",
    "train_data, val_data = torch.utils.data.random_split(train_data, [100, 20])\n",
    "\n",
    "test_data = torch.utils.data.TensorDataset(test_input_columns,test_output_columns)\n",
    "#test_data = pd.read_csv(\"iris_test.csv\", header=None)\n",
    "\n",
    "# prepare data loaders\n",
    "train_loader = torch.utils.data.DataLoader(train_data, batch_size=batch_size)\n",
    "print(\"Training data created\")\n",
    "print(\"Train-Data length : \", len(train_data),\"\\n\")\n",
    "\n",
    "\n",
    "val_loader = torch.utils.data.DataLoader(val_data, batch_size=batch_size)\n",
    "print(\"Validation data created\")\n",
    "print(\"Validation-Data length : \", len(val_data),\"\\n\")\n",
    "\n",
    "\n",
    "test_loader = torch.utils.data.DataLoader(test_data, batch_size=batch_size)\n",
    "print(\"Test data created\")\n",
    "print(\"Test-Data length : \", len(test_data))\n",
    "\n"
   ]
  },
  {
   "cell_type": "code",
   "execution_count": 35,
   "metadata": {
    "colab": {
     "base_uri": "https://localhost:8080/"
    },
    "id": "Y1MUYZE3Mfuz",
    "outputId": "0ea569e0-7d52-4822-9cae-cc3005795330",
    "scrolled": true
   },
   "outputs": [
    {
     "name": "stdout",
     "output_type": "stream",
     "text": [
      "Net(\n",
      "  (fc1): Linear(in_features=4, out_features=10, bias=True)\n",
      "  (fc2): Linear(in_features=10, out_features=5, bias=True)\n",
      "  (fc3): Linear(in_features=5, out_features=3, bias=True)\n",
      ")\n"
     ]
    }
   ],
   "source": [
    "## Define the NN architecture\n",
    "\n",
    "class Net(nn.Module):\n",
    "    def __init__(self):\n",
    "        super(Net, self).__init__()\n",
    "        \n",
    "        \"\"\"\n",
    "        Defining Hidden Layer 1 (Linear Layer)\n",
    "        As the no of input parameters are 4 hence we are providing input as 4. \n",
    "        For current layer we are setting the system to provide an output of 10 features\"\"\"\n",
    "        self.fc1 = nn.Linear(4, 10)\n",
    "        \n",
    "        \"\"\"\n",
    "        Defining Hidden Layer 2 (Linear Layer)\n",
    "        As the number of output parameter of previous hidden layer was 10, hence the input of current hidden layer will be same.\n",
    "        Similar to previous layer we are not setting output features to 5\n",
    "        \"\"\"\n",
    "        self.fc2 = nn.Linear(10, 5)       \n",
    "        \n",
    "        \"\"\"\n",
    "        Defining Hidden Layer 3 (Linear Layer)\n",
    "        \"\"\"\n",
    "        self.fc3 = nn.Linear(5, 3)        \n",
    "\n",
    "    def forward(self, x):\n",
    "        # Adding hidden layer, with relu activation function\n",
    "        x = F.relu(self.fc1(x))\n",
    "        x = F.relu(self.fc2(x))\n",
    "        x = F.relu(self.fc3(x))\n",
    "        return x\n",
    "\n",
    "# initialize the NN\n",
    "model = Net()\n",
    "\n",
    "# Printing the model\n",
    "print(model)"
   ]
  },
  {
   "cell_type": "code",
   "execution_count": 36,
   "metadata": {
    "colab": {
     "base_uri": "https://localhost:8080/"
    },
    "id": "WkkQ8gAtMfu0",
    "outputId": "fa7c1809-919e-45d9-909b-d54786f8a604"
   },
   "outputs": [
    {
     "name": "stdout",
     "output_type": "stream",
     "text": [
      "CrossEntropyLoss() SGD (\n",
      "Parameter Group 0\n",
      "    dampening: 0\n",
      "    lr: 0.05\n",
      "    momentum: 0\n",
      "    nesterov: False\n",
      "    weight_decay: 0\n",
      ")\n"
     ]
    }
   ],
   "source": [
    "# Specify loss and optimization functions\n",
    "\n",
    "# specify loss function\n",
    "criterion = nn.CrossEntropyLoss()\n",
    "\n",
    "# specify optimizer\n",
    "optimizer = torch.optim.SGD(model.parameters(), lr=0.05)\n",
    "\n",
    "print(criterion, optimizer)"
   ]
  },
  {
   "cell_type": "code",
   "execution_count": 37,
   "metadata": {
    "colab": {
     "base_uri": "https://localhost:8080/"
    },
    "id": "MdKYWmYBMfu1",
    "outputId": "58fbbf88-3b7f-4904-dcdc-00559b3cfcc2"
   },
   "outputs": [
    {
     "name": "stdout",
     "output_type": "stream",
     "text": [
      "Epoch: 1 \tTraining Loss: 1.084156 \tValidation Loss: 1.074800\n",
      "Training is done\n",
      "\n",
      "Epoch: 2 \tTraining Loss: 1.077249 \tValidation Loss: 1.070323\n",
      "Training is done\n",
      "\n",
      "Epoch: 3 \tTraining Loss: 1.075868 \tValidation Loss: 1.066130\n",
      "Training is done\n",
      "\n",
      "Epoch: 4 \tTraining Loss: 1.068739 \tValidation Loss: 1.063694\n",
      "Training is done\n",
      "\n",
      "Epoch: 5 \tTraining Loss: 1.068762 \tValidation Loss: 1.062281\n",
      "Training is done\n",
      "\n",
      "Epoch: 6 \tTraining Loss: 1.064346 \tValidation Loss: 1.058054\n",
      "Training is done\n",
      "\n",
      "Epoch: 7 \tTraining Loss: 1.059958 \tValidation Loss: 1.058377\n",
      "Training is done\n",
      "\n",
      "Epoch: 8 \tTraining Loss: 1.058690 \tValidation Loss: 1.053769\n",
      "Training is done\n",
      "\n",
      "Epoch: 9 \tTraining Loss: 1.054953 \tValidation Loss: 1.054883\n",
      "Training is done\n",
      "\n",
      "Epoch: 10 \tTraining Loss: 1.051850 \tValidation Loss: 1.049729\n",
      "Training is done\n",
      "\n",
      "Epoch: 11 \tTraining Loss: 1.049080 \tValidation Loss: 1.045427\n",
      "Training is done\n",
      "\n",
      "Epoch: 12 \tTraining Loss: 1.045580 \tValidation Loss: 1.041114\n",
      "Training is done\n",
      "\n",
      "Epoch: 13 \tTraining Loss: 1.040842 \tValidation Loss: 1.038741\n",
      "Training is done\n",
      "\n",
      "Epoch: 14 \tTraining Loss: 1.037774 \tValidation Loss: 1.036297\n",
      "Training is done\n",
      "\n",
      "Epoch: 15 \tTraining Loss: 1.034898 \tValidation Loss: 1.034097\n",
      "Training is done\n",
      "\n",
      "Epoch: 16 \tTraining Loss: 1.032542 \tValidation Loss: 1.032015\n",
      "Training is done\n",
      "\n",
      "Epoch: 17 \tTraining Loss: 1.030545 \tValidation Loss: 1.029812\n",
      "Training is done\n",
      "\n",
      "Epoch: 18 \tTraining Loss: 1.028165 \tValidation Loss: 1.027343\n",
      "Training is done\n",
      "\n",
      "Epoch: 19 \tTraining Loss: 1.026098 \tValidation Loss: 1.025793\n",
      "Training is done\n",
      "\n",
      "Epoch: 20 \tTraining Loss: 1.024371 \tValidation Loss: 1.024227\n",
      "Training is done\n",
      "\n"
     ]
    }
   ],
   "source": [
    "# Declaring varible to define number of epochs to train the model.\n",
    "# We are setting the epochs to 10\n",
    "n_epochs = 20 \n",
    "\n",
    "# Preparing model for training\n",
    "model.train() \n",
    "\n",
    "# Executing epochs one by one \n",
    "for epoch in range(n_epochs):\n",
    "    \n",
    "    # Declaring and Initializing variables for training and validation loss with 0 value\n",
    "    train_loss = 0.0                    \n",
    "    val_loss=0.0\n",
    "    \n",
    "    # train the model \n",
    "    for data, target in train_loader:\n",
    "        \n",
    "        # clear the gradients of all optimized variables\n",
    "        optimizer.zero_grad()            \n",
    "        \n",
    "        # forward pass: compute predicted outputs by passing inputs to the model\n",
    "        output = model(data)             \n",
    "        \n",
    "        # calculate the loss\n",
    "        loss = criterion(output, target) \n",
    "        \n",
    "        # backward pass: compute gradient of the loss with respect to model parameters\n",
    "        loss.backward()                  \n",
    "        \n",
    "        # perform a single optimization step to update the parameters\n",
    "        optimizer.step()                 \n",
    "        \n",
    "        # update running training loss\n",
    "        train_loss += loss.item()*data.size(0)  \n",
    "    \n",
    "    \n",
    "    \n",
    "    for data, target in val_loader:\n",
    "        \n",
    "         # forward pass: compute predicted outputs by passing inputs to the model\n",
    "        output = model(data)                 \n",
    "        \n",
    "         # calculate the loss\n",
    "        loss = criterion(output, target)     \n",
    "        \n",
    "        # update running validation loss\n",
    "        val_loss += loss.item()*data.size(0)  \n",
    "        \n",
    "    \n",
    "    # calculate average loss over an epoch\"\"\"\n",
    "    train_loss = train_loss/len(train_loader.dataset)  \n",
    "    \n",
    "    # Validation loss \n",
    "    val_loss = val_loss/len(val_loader.dataset)        \n",
    "\n",
    "    # print training statistics \n",
    "    print('Epoch: {} \\tTraining Loss: {:.6f} \\tValidation Loss: {:.6f}'.format( epoch+1, train_loss, val_loss ))\n",
    "    print(\"Training is done\\n\")"
   ]
  },
  {
   "cell_type": "code",
   "execution_count": 38,
   "metadata": {
    "colab": {
     "base_uri": "https://localhost:8080/"
    },
    "id": "RpqGaHj7Mfu2",
    "outputId": "1df0869c-b832-44c7-e6a9-24510ca537bb"
   },
   "outputs": [
    {
     "name": "stdout",
     "output_type": "stream",
     "text": [
      "Test Loss: 1.072049\n",
      "\n",
      "Test Accuracy of     0: 100% ( 8/ 8)\n",
      "Test Accuracy of     1:  0% ( 0/14)\n",
      "Test Accuracy of     2: 100% ( 8/ 8)\n",
      "\n",
      "Test Accuracy (Overall): 53% (16/30)\n",
      "\n"
     ]
    }
   ],
   "source": [
    "# Testing the  model \n",
    "test_loss = 0.0\n",
    "class_correct = list(0. for i in range(10))\n",
    "class_total = list(0. for i in range(10))\n",
    "\n",
    "model.eval() # prep model for *evaluation*\n",
    "\n",
    "for data, target in test_loader:\n",
    "    output = model(data)                            # forward pass: compute predicted outputs by passing inputs to the model\n",
    "    loss = criterion(output, target)                # calculate the loss\n",
    "    test_loss += loss.item()*data.size(0)           # update test loss \n",
    "    _, pred = torch.max(output, 1)                  # convert output probabilities to predicted class\n",
    "    correct = np.squeeze(pred.eq(target.data.view_as(pred)))        # compare predictions to true label\n",
    "    \n",
    "    # calculate test accuracy for each object class\n",
    "    for i in range(batch_size):\n",
    "        label = target.data[i]\n",
    "        class_correct[label] += correct[i].item()\n",
    "        class_total[label] += 1\n",
    "\n",
    "# calculate and print avg test loss\n",
    "test_loss = test_loss/len(test_loader.dataset)\n",
    "print('Test Loss: {:.6f}\\n'.format(test_loss))\n",
    "\n",
    "for i in range(3):\n",
    "    if class_total[i] > 0:\n",
    "        print('Test Accuracy of %5s: %2d%% (%2d/%2d)' % (\n",
    "            str(i), 100 * class_correct[i] / class_total[i],\n",
    "            np.sum(class_correct[i]), np.sum(class_total[i])))\n",
    "    else:\n",
    "        print('Test Accuracy of %5s: N/A (no training examples)' % (classes[i]))\n",
    "\n",
    "print('\\nTest Accuracy (Overall): %2d%% (%2d/%2d)' % (\n",
    "    100. * np.sum(class_correct) / np.sum(class_total),\n",
    "    np.sum(class_correct), np.sum(class_total)))\n",
    "print()"
   ]
  }
 ],
 "metadata": {
  "colab": {
   "name": "ISB_MLP.ipynb",
   "provenance": []
  },
  "kernelspec": {
   "display_name": "Python 3",
   "language": "python",
   "name": "python3"
  },
  "language_info": {
   "codemirror_mode": {
    "name": "ipython",
    "version": 3
   },
   "file_extension": ".py",
   "mimetype": "text/x-python",
   "name": "python",
   "nbconvert_exporter": "python",
   "pygments_lexer": "ipython3",
   "version": "3.8.5"
  }
 },
 "nbformat": 4,
 "nbformat_minor": 1
}
